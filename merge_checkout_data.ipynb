{
 "cells": [
  {
   "cell_type": "code",
   "execution_count": 1,
   "metadata": {},
   "outputs": [],
   "source": [
    "import pandas as pd\n",
    "import numpy as np\n",
    "from os import listdir\n",
    "from os.path import isfile, join\n"
   ]
  },
  {
   "cell_type": "code",
   "execution_count": 2,
   "metadata": {},
   "outputs": [],
   "source": [
    "#Variables\n",
    "checkout_input_path = r\"C:\\Users\\kam.c.1\\Downloads\\My Projects\\HSM Hook Scorecard\\Data\\Checkout\"\n",
    "checkout_total_input_path = r\"C:\\Users\\kam.c.1\\Downloads\\My Projects\\HSM Hook Scorecard\\Data\\Checkout Total\"\n",
    "checkout_out_path = r\"C:\\Users\\kam.c.1\\Downloads\\My Projects\\HSM Hook Scorecard\\Data\\Output\\Checkout\"\n",
    "\n"
   ]
  },
  {
   "cell_type": "code",
   "execution_count": 6,
   "metadata": {},
   "outputs": [
    {
     "name": "stdout",
     "output_type": "stream",
     "text": [
      "C:\\Users\\kam.c.1\\Downloads\\My Projects\\HSM Hook Scorecard\\Data\\Checkout/data.xlsx\n"
     ]
    },
    {
     "name": "stderr",
     "output_type": "stream",
     "text": [
      "c:\\Users\\kam.c.1\\Downloads\\My Projects\\HSM Hook Scorecard\\Python\\hsm_venv\\lib\\site-packages\\openpyxl\\styles\\stylesheet.py:226: UserWarning: Workbook contains no default style, apply openpyxl's default\n",
      "  warn(\"Workbook contains no default style, apply openpyxl's default\")\n"
     ]
    },
    {
     "name": "stdout",
     "output_type": "stream",
     "text": [
      "  market_name        Category Name                    segment_name  \\\n",
      "0      Brazil  Lâminas E Aparelhos                             NaN   \n",
      "1      Brazil  Lâminas E Aparelhos   Lâminas e Aparelhos Femininos   \n",
      "2      Brazil  Lâminas E Aparelhos  Lâminas e Aparelhos Masculinos   \n",
      "3      Brazil  Lâminas E Aparelhos                             NaN   \n",
      "4      Brazil  Lâminas E Aparelhos   Lâminas e Aparelhos Femininos   \n",
      "5      Brazil  Lâminas E Aparelhos  Lâminas e Aparelhos Masculinos   \n",
      "6      Brazil  Lâminas E Aparelhos                             NaN   \n",
      "7      Brazil  Lâminas E Aparelhos   Lâminas e Aparelhos Femininos   \n",
      "8      Brazil  Lâminas E Aparelhos  Lâminas e Aparelhos Masculinos   \n",
      "9      Brazil  Lâminas E Aparelhos                             NaN   \n",
      "\n",
      "  primary_channel_name    account_chain_id           chain_name  \\\n",
      "0                  NaN  0014W00002c5zvSQAQ  DROGARIA PERMANENTE   \n",
      "1                  NaN  0014W00002c5zvSQAQ  DROGARIA PERMANENTE   \n",
      "2                  NaN  0014W00002c5zvSQAQ  DROGARIA PERMANENTE   \n",
      "3                  NaN  0014W00002e9FddQAE        DROGARIA COOP   \n",
      "4                  NaN  0014W00002e9FddQAE        DROGARIA COOP   \n",
      "5                  NaN  0014W00002e9FddQAE        DROGARIA COOP   \n",
      "6                  NaN  0014W00002e9FddQAE        DROGARIA COOP   \n",
      "7                  NaN  0014W00002e9FddQAE        DROGARIA COOP   \n",
      "8                  NaN  0014W00002e9FddQAE        DROGARIA COOP   \n",
      "9                  NaN  0014W00002e9FddQAE        DROGARIA COOP   \n",
      "\n",
      "           banner_name Month (Real)  ChOs Universe  Stores w/ChO w/P&G  \\\n",
      "0  FARMACIA PERMANENTE      2023M03            2.0                 NaN   \n",
      "1  FARMACIA PERMANENTE      2023M03            2.0                 NaN   \n",
      "2  FARMACIA PERMANENTE      2023M03            2.0                 NaN   \n",
      "3        DROGARIA COOP      2023M04            2.0                 NaN   \n",
      "4        DROGARIA COOP      2023M04            2.0                 NaN   \n",
      "5        DROGARIA COOP      2023M04            2.0                 NaN   \n",
      "6        DROGARIA COOP      2023M05            2.0                 NaN   \n",
      "7        DROGARIA COOP      2023M05            2.0                 NaN   \n",
      "8        DROGARIA COOP      2023M05            2.0                 NaN   \n",
      "9        DROGARIA COOP      2023M06            2.0                 NaN   \n",
      "\n",
      "   Category Universe  ChOs w/P&G  ChOs Universe Stores w/P&G  hook_qty  \\\n",
      "0                NaN         NaN                         NaN       NaN   \n",
      "1                NaN         NaN                         NaN       NaN   \n",
      "2                NaN         NaN                         NaN       NaN   \n",
      "3                NaN         NaN                         NaN       NaN   \n",
      "4                NaN         NaN                         NaN       NaN   \n",
      "5                NaN         NaN                         NaN       NaN   \n",
      "6                NaN         NaN                         NaN       NaN   \n",
      "7                NaN         NaN                         NaN       NaN   \n",
      "8                NaN         NaN                         NaN       NaN   \n",
      "9                NaN         NaN                         NaN       NaN   \n",
      "\n",
      "   Uni Universe  Uni w/P&G  \n",
      "0           NaN        NaN  \n",
      "1           NaN        NaN  \n",
      "2           NaN        NaN  \n",
      "3           1.0        NaN  \n",
      "4           1.0        NaN  \n",
      "5           1.0        NaN  \n",
      "6           1.0        NaN  \n",
      "7           1.0        NaN  \n",
      "8           1.0        NaN  \n",
      "9           1.0        NaN  \n"
     ]
    }
   ],
   "source": [
    "file_names = [f for f in listdir(checkout_input_path) if isfile(join(checkout_input_path, f))]\n",
    "file_range = len(file_names)\n",
    "\n",
    "checkout_df_list = []\n",
    "    \n",
    "for n in range(file_range):\n",
    "    #Declaring list\n",
    "    file = file_names[n]\n",
    "    file_path = f\"{checkout_input_path}/{file}\"\n",
    "    print(file_path)\n",
    "\n",
    "    df = pd.read_excel(file_path)\n",
    "    checkout_df_list.append(df)\n",
    "\n",
    "merged_df = pd.concat(checkout_df_list)\n",
    "print(merged_df.head(10))"
   ]
  },
  {
   "cell_type": "code",
   "execution_count": null,
   "metadata": {},
   "outputs": [],
   "source": []
  }
 ],
 "metadata": {
  "kernelspec": {
   "display_name": "hsm_venv",
   "language": "python",
   "name": "python3"
  },
  "language_info": {
   "codemirror_mode": {
    "name": "ipython",
    "version": 3
   },
   "file_extension": ".py",
   "mimetype": "text/x-python",
   "name": "python",
   "nbconvert_exporter": "python",
   "pygments_lexer": "ipython3",
   "version": "3.10.10 (tags/v3.10.10:aad5f6a, Feb  7 2023, 17:20:36) [MSC v.1929 64 bit (AMD64)]"
  },
  "orig_nbformat": 4,
  "vscode": {
   "interpreter": {
    "hash": "9c20b5639f71ff9351f33298c4887d77a8ef62077a196be51b439462b7ca58b9"
   }
  }
 },
 "nbformat": 4,
 "nbformat_minor": 2
}
